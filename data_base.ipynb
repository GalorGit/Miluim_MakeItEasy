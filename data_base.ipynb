{
 "cells": [
  {
   "cell_type": "code",
   "execution_count": 1,
   "metadata": {},
   "outputs": [
    {
     "name": "stdout",
     "output_type": "stream",
     "text": [
      "DataFrame:\n",
      "Stored 'data' (dict)\n"
     ]
    }
   ],
   "source": [
    "import pandas as pd\n",
    "\n",
    "# Define the data\n",
    "data = {\n",
    "    'city': ['none', 'none', 'none', 'none', 'none', 'none', 'none', 'none', 'none', 'none', 'none', 'none', 'none'],\n",
    "    'days': ['30+', '30+', '10-14.5', '15-19.5', '20-36.5', '37+', 'till 19.5', '20-36.5', '37+', '20+', '20+', '20+', '60+'],\n",
    "    'rights': [\n",
    "        'טיפול 1500 ש\"ח החזר',\n",
    "        'טיפול זוגי 1500 ש\"ח החזר',\n",
    "        '726 מענק אוטומטי',\n",
    "        '2904 מענק אוטומטי',\n",
    "        '6534 מענק אוטומטי',\n",
    "        '11616 מענק אוטומטי',\n",
    "        'M1 הנחה של 59 שקלים לאגרת הרישוי השנתית של רכב עבור אופנוע/מרכב מסוג',\n",
    "        'M1 הנחה של 119 שקלים לאגרת הרישוי השנתית של רכב עבור אופנוע/מרכב מסוג',\n",
    "        'M1 הנחה של 119 שקלים לאגרת הרישוי השנתית של רכב עבור אופנוע/מרכב מסוג',\n",
    "        '12 שקלים עבור חידוש רישיון נהיגה',\n",
    "        'הנחה של 5% בתשלום הארנונה',\n",
    "        'זכאות לדיור במחיר מופחת-מחיר למשתכן על ידי עמידר,מגער ומגלם',\n",
    "        'שובר של 1500 שקלים שנשלח אוטומטית'\n",
    "    ]\n",
    "}\n",
    "\n",
    "# Create DataFrame\n",
    "df = pd.DataFrame(data)\n",
    "\n",
    "# Print the DataFrame\n",
    "print(\"DataFrame:\")\n",
    "df\n",
    "%store data"
   ]
  }
 ],
 "metadata": {
  "kernelspec": {
   "display_name": "Python 3",
   "language": "python",
   "name": "python3"
  },
  "language_info": {
   "codemirror_mode": {
    "name": "ipython",
    "version": 3
   },
   "file_extension": ".py",
   "mimetype": "text/x-python",
   "name": "python",
   "nbconvert_exporter": "python",
   "pygments_lexer": "ipython3",
   "version": "3.6.8"
  }
 },
 "nbformat": 4,
 "nbformat_minor": 2
}
