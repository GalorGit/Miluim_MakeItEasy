{
 "cells": [
  {
   "cell_type": "code",
   "execution_count": 1,
   "metadata": {},
   "outputs": [],
   "source": [
    "import pandas as pd\n",
    "import sqlite3\n",
    "import streamlit as st"
   ]
  },
  {
   "cell_type": "code",
   "execution_count": 2,
   "metadata": {},
   "outputs": [
    {
     "name": "stdout",
     "output_type": "stream",
     "text": [
      "{'city': ['none', 'none', 'none', 'none', 'none', 'none', 'none', 'none', 'none', 'none', 'none', 'none', 'none'], 'days': ['30+', '30+', '10-14.5', '15-19.5', '20-36.5', '37+', 'till 19.5', '20-36.5', '37+', '20+', '20+', '20+', '60+'], 'rights': ['טיפול 1500 ש\"ח החזר', 'טיפול זוגי 1500 ש\"ח החזר', '726 מענק אוטומטי', '2904 מענק אוטומטי', '6534 מענק אוטומטי', '11616 מענק אוטומטי', 'M1 הנחה של 59 שקלים לאגרת הרישוי השנתית של רכב עבור אופנוע/מרכב מסוג', 'M1 הנחה של 119 שקלים לאגרת הרישוי השנתית של רכב עבור אופנוע/מרכב מסוג', 'M1 הנחה של 119 שקלים לאגרת הרישוי השנתית של רכב עבור אופנוע/מרכב מסוג', '12 שקלים עבור חידוש רישיון נהיגה', 'הנחה של 5% בתשלום הארנונה', 'זכאות לדיור במחיר מופחת-מחיר למשתכן על ידי עמידר,מגער ומגלם', 'שובר של 1500 שקלים שנשלח אוטומטית']}\n"
     ]
    }
   ],
   "source": [
    "%store -r data\n",
    "\n",
    "\n",
    "\n",
    "print(data)"
   ]
  },
  {
   "cell_type": "code",
   "execution_count": 3,
   "metadata": {},
   "outputs": [
    {
     "name": "stdout",
     "output_type": "stream",
     "text": [
      "Users Data:\n",
      "(1, 'Jane', 'Doe', '1990-01-01', 'Female', 'Married', 'Israeli', '123 Main St', 'Tel Aviv', 'TA', '12345', 'Israel', '+1234567890', 'jane.doe@example.com', 2, 'ABC123', 'John', 'Doe', 500)\n",
      "Children Data:\n",
      "(1, 1, 'Child1', 8, 'Male', 0, 1)\n",
      "(2, 1, 'Child2', 5, 'Female', 0, 1)\n"
     ]
    }
   ],
   "source": [
    "import sqlite3\n",
    "\n",
    "def insert_and_print_data():\n",
    "    # Connect to SQLite database with a timeout to avoid locking issues\n",
    "    conn = sqlite3.connect('questionnaire.db', timeout=10)\n",
    "    c = conn.cursor()\n",
    "\n",
    "    try:\n",
    "        # Drop and recreate tables to ensure fresh start for demonstration\n",
    "        c.execute('DROP TABLE IF EXISTS users;')\n",
    "        c.execute('DROP TABLE IF EXISTS children;')\n",
    "        \n",
    "        c.execute('''\n",
    "            CREATE TABLE users (\n",
    "                id INTEGER PRIMARY KEY,\n",
    "                first_name TEXT,\n",
    "                last_name TEXT,\n",
    "                date_of_birth TEXT,\n",
    "                gender TEXT,\n",
    "                marital_status TEXT,\n",
    "                nationality TEXT,\n",
    "                street_address TEXT,\n",
    "                city TEXT,\n",
    "                state_province TEXT,\n",
    "                postal_code TEXT,\n",
    "                country TEXT,\n",
    "                phone_number TEXT,\n",
    "                email_address TEXT,\n",
    "                num_children INTEGER,\n",
    "                armyid TEXT,\n",
    "                other_first_name TEXT,\n",
    "                other_last_name TEXT,\n",
    "                total_days INTEGER\n",
    "            )\n",
    "        ''')\n",
    "\n",
    "        c.execute('''\n",
    "            CREATE TABLE children (\n",
    "                id INTEGER PRIMARY KEY,\n",
    "                parent_id INTEGER,\n",
    "                child_name TEXT,\n",
    "                child_age INTEGER,\n",
    "                child_gender TEXT,\n",
    "                child_adopted BOOLEAN,\n",
    "                child_lives_home BOOLEAN,\n",
    "                FOREIGN KEY(parent_id) REFERENCES users(id)\n",
    "            )\n",
    "        ''')\n",
    "\n",
    "        # Inserting example user data\n",
    "        c.execute('''\n",
    "            INSERT INTO users (first_name, last_name, date_of_birth, gender, marital_status, nationality,\n",
    "                street_address, city, state_province, postal_code, country,\n",
    "                phone_number, email_address, num_children, armyid, other_first_name, other_last_name, total_days)\n",
    "            VALUES ('Jane', 'Doe', '1990-01-01', 'Female', 'Married', 'Israeli', \n",
    "                '123 Main St', 'Tel Aviv', 'TA', '12345', 'Israel', \n",
    "                '+1234567890', 'jane.doe@example.com', 2, 'ABC123', 'John', 'Doe', 500)\n",
    "        ''')\n",
    "\n",
    "        # Capture the parent_id of the last inserted user\n",
    "        parent_id = c.lastrowid\n",
    "\n",
    "        # Inserting example children data\n",
    "        c.executemany('''\n",
    "            INSERT INTO children (parent_id, child_name, child_age, child_gender, child_adopted, child_lives_home)\n",
    "            VALUES (?, ?, ?, ?, ?, ?)\n",
    "        ''', [\n",
    "            (parent_id, 'Child1', 8, 'Male', False, True),\n",
    "            (parent_id, 'Child2', 5, 'Female', False, True)\n",
    "        ])\n",
    "\n",
    "        conn.commit()\n",
    "\n",
    "        # Print users data\n",
    "        c.execute('SELECT * FROM users')\n",
    "        users = c.fetchall()\n",
    "        print(\"Users Data:\")\n",
    "        for user in users:\n",
    "            print(user)\n",
    "\n",
    "        # Print children data\n",
    "        c.execute('SELECT * FROM children')\n",
    "        children = c.fetchall()\n",
    "        print(\"Children Data:\")\n",
    "        for child in children:\n",
    "            print(child)\n",
    "\n",
    "    except sqlite3.Error as e:\n",
    "        print(f\"An error occurred: {e}\")\n",
    "    finally:\n",
    "        conn.close()\n",
    "\n",
    "# Call the function to insert and print data\n",
    "insert_and_print_data()\n"
   ]
  }
 ],
 "metadata": {
  "kernelspec": {
   "display_name": "Python 3",
   "language": "python",
   "name": "python3"
  },
  "language_info": {
   "codemirror_mode": {
    "name": "ipython",
    "version": 3
   },
   "file_extension": ".py",
   "mimetype": "text/x-python",
   "name": "python",
   "nbconvert_exporter": "python",
   "pygments_lexer": "ipython3",
   "version": "3.6.8"
  }
 },
 "nbformat": 4,
 "nbformat_minor": 2
}
