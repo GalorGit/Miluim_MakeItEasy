{
 "cells": [
  {
   "cell_type": "code",
   "execution_count": 2,
   "metadata": {},
   "outputs": [],
   "source": [
    "import pandas as pd \n",
    "%store -r data"
   ]
  },
  {
   "cell_type": "code",
   "execution_count": 4,
   "metadata": {},
   "outputs": [
    {
     "name": "stdout",
     "output_type": "stream",
     "text": [
      "Rights for serving 20 days: ['6534 מענק אוטומטי', 'M1 הנחה של 119 שקלים לאגרת הרישוי השנתית של רכב עבור אופנוע/מרכב מסוג']\n"
     ]
    }
   ],
   "source": [
    "df = pd.DataFrame(data)\n",
    "\n",
    "def get_rights(days_served):\n",
    "    try:\n",
    "        days_served = float(days_served)\n",
    "    except ValueError:\n",
    "        return \"Invalid number of days.\"\n",
    "\n",
    "    if days_served >= 60:\n",
    "        category = '60+'\n",
    "    elif days_served >= 37:\n",
    "        category = '37+'\n",
    "    elif 20 <= days_served <= 36.5:\n",
    "        category = '20-36.5'\n",
    "    elif 15 <= days_served <= 19.5:\n",
    "        category = '15-19.5'\n",
    "    elif 10 <= days_served <= 14.5:\n",
    "        category = '10-14.5'\n",
    "    elif days_served <= 19.5:\n",
    "        category = 'till 19.5'\n",
    "    else:\n",
    "        category = '30+'  # Assuming '30+' is for any value not fitting the above ranges\n",
    "\n",
    "    rights_list = df[df['days'] == category]['rights'].tolist()\n",
    "    \n",
    "    if rights_list:\n",
    "        return rights_list\n",
    "    else:\n",
    "        return \"No rights available for the specified days.\"\n",
    "\n",
    "# Example usage\n",
    "days_served = '20'  # Replace this with your actual days served\n",
    "rights = get_rights(days_served)\n",
    "print(f\"Rights for serving {days_served} days: {rights}\")"
   ]
  }
 ],
 "metadata": {
  "kernelspec": {
   "display_name": "Python 3",
   "language": "python",
   "name": "python3"
  },
  "language_info": {
   "codemirror_mode": {
    "name": "ipython",
    "version": 3
   },
   "file_extension": ".py",
   "mimetype": "text/x-python",
   "name": "python",
   "nbconvert_exporter": "python",
   "pygments_lexer": "ipython3",
   "version": "3.6.8"
  }
 },
 "nbformat": 4,
 "nbformat_minor": 2
}
